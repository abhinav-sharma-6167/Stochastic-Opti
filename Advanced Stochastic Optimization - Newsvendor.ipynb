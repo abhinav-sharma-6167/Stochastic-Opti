{
 "cells": [
  {
   "cell_type": "markdown",
   "id": "a39fe6b3",
   "metadata": {},
   "source": [
    "<font face='Tahoma' size = 2.5>Problem Overview : <br>\n",
    " The goal of this project is to extend the classical newsvendor model in a few ways to make a better approximation of\n",
    "reality.\n",
    "<br><br>\n",
    "In our first extension, we will assume that if you don’t print enough newspapers to satisfy demand, then\n",
    "you can send a rush order to the printers to print all that you need.\n",
    "    \n",
    "<br> These rushed newspapers cost more to print, we will call the cost per rushed newspaper g, where g>c. Additionally, if you print more than the demand you must pay a disposal fee of t dollars per newspaper. \n",
    "    \n",
    "<br> You could alternatively think about this as receiving money for taking excess newspapers to a recycling center if t\\<0, but for now we’ll think of t>0. Putting this together, the objective function is:"
   ]
  },
  {
   "cell_type": "code",
   "execution_count": 292,
   "id": "e4a42770",
   "metadata": {
    "ExecuteTime": {
     "end_time": "2022-02-21T23:49:15.431723Z",
     "start_time": "2022-02-21T23:49:15.377923Z"
    }
   },
   "outputs": [],
   "source": [
    "import numpy as np\n",
    "import gurobipy as gp\n",
    "import pandas as pd\n",
    "import statsmodels.api as sm\n",
    "import seaborn as sns\n",
    "import matplotlib.pyplot as plt\n",
    "from scipy import stats\n",
    "import warnings\n",
    "import copy\n",
    "warnings.filterwarnings(\"ignore\")\n",
    "%matplotlib inline"
   ]
  },
  {
   "cell_type": "code",
   "execution_count": 293,
   "id": "6a9ba177",
   "metadata": {
    "ExecuteTime": {
     "end_time": "2022-02-21T23:49:16.136735Z",
     "start_time": "2022-02-21T23:49:16.051672Z"
    }
   },
   "outputs": [],
   "source": [
    "demand_df = pd.read_csv('price_demand_data.csv')"
   ]
  },
  {
   "cell_type": "markdown",
   "id": "3af7cd33",
   "metadata": {},
   "source": [
    "<font face='Tahoma' size = 2.5>\n",
    "Number of days have the data for :"
   ]
  },
  {
   "cell_type": "code",
   "execution_count": 294,
   "id": "895cc577",
   "metadata": {
    "ExecuteTime": {
     "end_time": "2022-02-21T23:49:17.067386Z",
     "start_time": "2022-02-21T23:49:17.060739Z"
    }
   },
   "outputs": [
    {
     "data": {
      "text/plain": [
       "99"
      ]
     },
     "execution_count": 294,
     "metadata": {},
     "output_type": "execute_result"
    }
   ],
   "source": [
    "nd = demand_df.shape[0] # number of days of demand data\n",
    "nd"
   ]
  },
  {
   "cell_type": "markdown",
   "id": "a6720a1a",
   "metadata": {},
   "source": [
    "<font face='Tahoma' size = 2.5>\n",
    "We see price for each day is variable"
   ]
  },
  {
   "cell_type": "code",
   "execution_count": 295,
   "id": "60b19995",
   "metadata": {
    "ExecuteTime": {
     "end_time": "2022-02-21T23:49:17.629723Z",
     "start_time": "2022-02-21T23:49:17.613323Z"
    }
   },
   "outputs": [
    {
     "data": {
      "text/html": [
       "<div>\n",
       "<style scoped>\n",
       "    .dataframe tbody tr th:only-of-type {\n",
       "        vertical-align: middle;\n",
       "    }\n",
       "\n",
       "    .dataframe tbody tr th {\n",
       "        vertical-align: top;\n",
       "    }\n",
       "\n",
       "    .dataframe thead th {\n",
       "        text-align: right;\n",
       "    }\n",
       "</style>\n",
       "<table border=\"1\" class=\"dataframe\">\n",
       "  <thead>\n",
       "    <tr style=\"text-align: right;\">\n",
       "      <th></th>\n",
       "      <th>price</th>\n",
       "      <th>demand</th>\n",
       "    </tr>\n",
       "  </thead>\n",
       "  <tbody>\n",
       "    <tr>\n",
       "      <th>0</th>\n",
       "      <td>1.05</td>\n",
       "      <td>283</td>\n",
       "    </tr>\n",
       "    <tr>\n",
       "      <th>1</th>\n",
       "      <td>0.86</td>\n",
       "      <td>771</td>\n",
       "    </tr>\n",
       "    <tr>\n",
       "      <th>2</th>\n",
       "      <td>1.21</td>\n",
       "      <td>185</td>\n",
       "    </tr>\n",
       "    <tr>\n",
       "      <th>3</th>\n",
       "      <td>0.94</td>\n",
       "      <td>531</td>\n",
       "    </tr>\n",
       "    <tr>\n",
       "      <th>4</th>\n",
       "      <td>0.76</td>\n",
       "      <td>1002</td>\n",
       "    </tr>\n",
       "  </tbody>\n",
       "</table>\n",
       "</div>"
      ],
      "text/plain": [
       "   price  demand\n",
       "0   1.05     283\n",
       "1   0.86     771\n",
       "2   1.21     185\n",
       "3   0.94     531\n",
       "4   0.76    1002"
      ]
     },
     "execution_count": 295,
     "metadata": {},
     "output_type": "execute_result"
    }
   ],
   "source": [
    "demand_df.head()"
   ]
  },
  {
   "cell_type": "markdown",
   "id": "e27e8d80",
   "metadata": {},
   "source": [
    "<font face='Tahoma' size = 2.5>\n",
    "Regressing demand against price to check for any trends :"
   ]
  },
  {
   "cell_type": "code",
   "execution_count": 296,
   "id": "f2e40e87",
   "metadata": {
    "ExecuteTime": {
     "end_time": "2022-02-21T23:49:19.881347Z",
     "start_time": "2022-02-21T23:49:19.818477Z"
    }
   },
   "outputs": [
    {
     "name": "stdout",
     "output_type": "stream",
     "text": [
      "                            OLS Regression Results                            \n",
      "==============================================================================\n",
      "Dep. Variable:                 demand   R-squared:                       0.621\n",
      "Model:                            OLS   Adj. R-squared:                  0.618\n",
      "Method:                 Least Squares   F-statistic:                     159.3\n",
      "Date:                Mon, 21 Feb 2022   Prob (F-statistic):           3.51e-22\n",
      "Time:                        17:49:19   Log-Likelihood:                -636.17\n",
      "No. Observations:                  99   AIC:                             1276.\n",
      "Df Residuals:                      97   BIC:                             1282.\n",
      "Df Model:                           1                                         \n",
      "Covariance Type:            nonrobust                                         \n",
      "==============================================================================\n",
      "                 coef    std err          t      P>|t|      [0.025      0.975]\n",
      "------------------------------------------------------------------------------\n",
      "const       1924.7175    111.334     17.288      0.000    1703.750    2145.685\n",
      "price      -1367.7125    108.379    -12.620      0.000   -1582.816   -1152.609\n",
      "==============================================================================\n",
      "Omnibus:                        0.906   Durbin-Watson:                   1.827\n",
      "Prob(Omnibus):                  0.636   Jarque-Bera (JB):                0.871\n",
      "Skew:                          -0.222   Prob(JB):                        0.647\n",
      "Kurtosis:                       2.881   Cond. No.                         14.6\n",
      "==============================================================================\n",
      "\n",
      "Notes:\n",
      "[1] Standard Errors assume that the covariance matrix of the errors is correctly specified.\n"
     ]
    }
   ],
   "source": [
    "X = demand_df.price # independent variable\n",
    "y = demand_df.demand   # dependent variable\n",
    "X = sm.add_constant(X)\n",
    "ols = sm.OLS(y,X).fit()\n",
    "print(ols.summary())"
   ]
  },
  {
   "cell_type": "markdown",
   "id": "f176c6d4",
   "metadata": {},
   "source": [
    "<font face='Tahoma' size = 2.5>We observe the following -\n",
    "* Demand has decent correlation with price resulting in an R-square of 0.62\n",
    "* Both the intercept and price co-efficients are statistically significant\n",
    "* Demand varies inversely with price which makes intuitive sense"
   ]
  },
  {
   "cell_type": "markdown",
   "id": "5b2b537f",
   "metadata": {},
   "source": [
    "<font face='Tahoma' size = 2.5> **Approach 1 - Assume error model to generate data**"
   ]
  },
  {
   "cell_type": "markdown",
   "id": "4e57d85c",
   "metadata": {},
   "source": [
    "<font face='Tahoma' size = 2.5> Assuming price = 1 and that each day the error could be from a distribution of $N(\\mu,\\sigma)$ from the regression above, let's simulate the demand from the linear regression residuals. The residuals are assumed to follow the normal distribution as below "
   ]
  },
  {
   "cell_type": "code",
   "execution_count": 270,
   "id": "9dbafc28",
   "metadata": {
    "ExecuteTime": {
     "end_time": "2022-02-21T22:40:26.228915Z",
     "start_time": "2022-02-21T22:40:26.219319Z"
    }
   },
   "outputs": [
    {
     "name": "stdout",
     "output_type": "stream",
     "text": [
      "N ( 0.0  ,  149.452 )\n"
     ]
    }
   ],
   "source": [
    "err_mean = np.mean(ols.resid)\n",
    "err_var = np.std(ols.resid)\n",
    "resid = stats.shapiro(ols.resid)\n",
    "print ('N (',round(err_mean,4),' , ',round(err_var,4),')')"
   ]
  },
  {
   "cell_type": "markdown",
   "id": "73164a4c",
   "metadata": {},
   "source": [
    "<font face='Tahoma' size = 2.5> The Shapiro Wilk test for Normality validates the normal distribution of the residuals given it rejects the null hypothesis for normality with a p-value as below -"
   ]
  },
  {
   "cell_type": "code",
   "execution_count": 271,
   "id": "34d01090",
   "metadata": {
    "ExecuteTime": {
     "end_time": "2022-02-21T22:40:27.486606Z",
     "start_time": "2022-02-21T22:40:27.478008Z"
    }
   },
   "outputs": [
    {
     "data": {
      "text/plain": [
       "0.2565"
      ]
     },
     "execution_count": 271,
     "metadata": {},
     "output_type": "execute_result"
    }
   ],
   "source": [
    "round(resid.pvalue,4)"
   ]
  },
  {
   "cell_type": "markdown",
   "id": "634187fa",
   "metadata": {},
   "source": [
    "<font face='Tahoma' size = 2.5> We can simulate data using the mean and variables of the error model"
   ]
  },
  {
   "cell_type": "code",
   "execution_count": 272,
   "id": "607c50f9",
   "metadata": {
    "ExecuteTime": {
     "end_time": "2022-02-21T22:40:28.648989Z",
     "start_time": "2022-02-21T22:40:28.633344Z"
    }
   },
   "outputs": [],
   "source": [
    "#Generate data\n",
    "dem_sim = copy.deepcopy(demand_df)\n",
    "dem_sim['price'] = 1\n",
    "dem_sim['demand'] = ols.predict(pd.DataFrame([1]*99 , dem_sim['price'].values,columns=['price']).reset_index())\n",
    "np.random.seed(1)\n",
    "dem_sim['err'] = np.random.normal(loc=err_mean , scale = err_var, size = dem_sim.shape[0])\n",
    "dem_sim['demand'] = dem_sim['demand'] + dem_sim['err']"
   ]
  },
  {
   "cell_type": "markdown",
   "id": "13c157df",
   "metadata": {},
   "source": [
    "<font face='Tahoma' size = 2.5> Simulated demand looks like -"
   ]
  },
  {
   "cell_type": "code",
   "execution_count": 273,
   "id": "016cafb0",
   "metadata": {
    "ExecuteTime": {
     "end_time": "2022-02-21T22:40:29.839232Z",
     "start_time": "2022-02-21T22:40:29.720743Z"
    }
   },
   "outputs": [
    {
     "data": {
      "text/plain": [
       "<AxesSubplot:>"
      ]
     },
     "execution_count": 273,
     "metadata": {},
     "output_type": "execute_result"
    },
    {
     "data": {
      "image/png": "[encoded data removed]",
      "text/plain": [
       "<Figure size 432x288 with 1 Axes>"
      ]
     },
     "metadata": {
      "needs_background": "light"
     },
     "output_type": "display_data"
    }
   ],
   "source": [
    "dem_sim['demand'].plot()"
   ]
  },
  {
   "cell_type": "markdown",
   "id": "06200826",
   "metadata": {},
   "source": [
    "<font face='Tahoma' size = 2.5>\n",
    "Setting the cost, cost for rush order (g) and disposal costs (t) and working with p = 1 (assumption) scenario :"
   ]
  },
  {
   "cell_type": "code",
   "execution_count": 274,
   "id": "763dc61d",
   "metadata": {
    "ExecuteTime": {
     "end_time": "2022-02-21T22:40:31.125738Z",
     "start_time": "2022-02-21T22:40:31.120732Z"
    }
   },
   "outputs": [],
   "source": [
    "cost = 0.5\n",
    "g = 0.75\n",
    "t = 0.15\n",
    "p = dem_sim['price'][0]"
   ]
  },
  {
   "cell_type": "code",
   "execution_count": 275,
   "id": "c68e9ab2",
   "metadata": {
    "ExecuteTime": {
     "end_time": "2022-02-21T22:40:32.271092Z",
     "start_time": "2022-02-21T22:40:32.263478Z"
    }
   },
   "outputs": [
    {
     "data": {
      "text/plain": [
       "99"
      ]
     },
     "execution_count": 275,
     "metadata": {},
     "output_type": "execute_result"
    }
   ],
   "source": [
    "nd = demand_df.shape[0] # number of days of demand data\n",
    "nd"
   ]
  },
  {
   "cell_type": "markdown",
   "id": "76d1c1ee",
   "metadata": {},
   "source": [
    "<font face='Tahoma' size = 2.5>\n",
    "The new objective function, as per SAA (Sample Average Approximation) would be :\n",
    "    $$max_q\\frac{1}{n} \\sum\\limits_{i=1}^{n}p_iD_i -qc - g(D_i-q)^{+} - t(q-D_i)^{+}$$\n",
    "    \n",
    "where $q$ is quantity of newspapers as a decision variable <br>\n",
    "    $n$ is number of samples available with past demand <br>\n",
    "    $c$ is cost without rush order <br>\n",
    "    $g$ is higher cost to match upto the demand <br>\n",
    "    $t$ is disposal cost to enable disposal/recycle <br>\n",
    "    \n",
    "and the terms  $g(D_i-q)^{+}$ and $t(q-D_i)^{+}$ indicate if the quantity in the braces is positive in value. It'll be interesting to convert this into a linear programming problem.\n",
    "    \n",
    "<br>\n",
    "\n"
   ]
  },
  {
   "cell_type": "markdown",
   "id": "34f39dfc",
   "metadata": {},
   "source": [
    "<font face='Tahoma' size = 2.5>\n",
    "We use expected profit as the objective function. Say we define $h_i$ as profit on $i^{th}$ day. Given our assumption that next day's profit is from the distribution of historical demand, we use all datapoints for SAA to evaluate expected profit."
   ]
  },
  {
   "cell_type": "markdown",
   "id": "5f14bd54",
   "metadata": {},
   "source": [
    "<font face='Tahoma' size = 2.5>\n",
    "We formulate the constraints of the problem as follows :\n",
    "    $$h_i \\leq p_iD_i - qc - g(D_i - q)\\;\\;\\;\\;\\;\\;\\; \\forall (q < D_i) $$\n",
    "    $$h_i \\leq p_iD_i - qc - t(q - D_i)\\;\\;\\;\\;\\;\\;\\; \\forall (q \\geq D_i) $$\n",
    "    \n",
    "to convert this into an LPP and objective function becomes an average of the $h_i$'s"
   ]
  },
  {
   "cell_type": "code",
   "execution_count": 276,
   "id": "eb0cc63c",
   "metadata": {
    "ExecuteTime": {
     "end_time": "2022-02-21T22:40:34.757838Z",
     "start_time": "2022-02-21T22:40:34.750535Z"
    }
   },
   "outputs": [],
   "source": [
    "# decision variables are (q, h1, h2, ..., h25)\n",
    "obj = np.zeros(nd+1)\n",
    "obj[1:] = 1.0/nd\n",
    "\n",
    "#Set respective lower bounds\n",
    "lb = np.zeros(nd+1)\n",
    "lb[1:] = -np.inf # quantity printed needs to be non-negative, but profit on a given day could possibly be negative\n",
    "\n",
    "#RHS and directionality of constraints\n",
    "rhs = np.zeros(2*nd)\n",
    "direction = np.array(['<']*(2*nd))"
   ]
  },
  {
   "cell_type": "markdown",
   "id": "cd3ea1b0",
   "metadata": {},
   "source": [
    "<font face='Tahoma' size = 2.5>Constraints for the problem are :\n",
    "$$h_i \\leq (g - c)q + (p_i-g)D_i $$\n",
    "$$h_i \\leq  -(c+t)q + (p_i+t)D_i$$\n",
    "<br>\n"
   ]
  },
  {
   "cell_type": "code",
   "execution_count": 277,
   "id": "2e22e977",
   "metadata": {
    "ExecuteTime": {
     "end_time": "2022-02-21T22:40:36.517916Z",
     "start_time": "2022-02-21T22:40:36.493845Z"
    }
   },
   "outputs": [],
   "source": [
    "A = np.zeros((2*nd,nd+1))\n",
    "for r in range(nd):\n",
    "    A[2*r,[0,r+1]] = [cost+t,1] \n",
    "    rhs[2*r] = (dem_sim['price'][r] + t ) * dem_sim.demand[r]\n",
    "    A[2*r+1,[0,r+1]] = [cost-g,1]\n",
    "    rhs[2*r+1] = (dem_sim['price'][r] - g ) * dem_sim.demand[r]\n"
   ]
  },
  {
   "cell_type": "markdown",
   "id": "d3a3b31b",
   "metadata": {},
   "source": [
    "<font face='Tahoma' size = 2.5>Constraints for the problem are written as input to Gurobi :"
   ]
  },
  {
   "cell_type": "code",
   "execution_count": 278,
   "id": "68bb6ae1",
   "metadata": {
    "ExecuteTime": {
     "end_time": "2022-02-21T22:40:37.866445Z",
     "start_time": "2022-02-21T22:40:37.852493Z"
    }
   },
   "outputs": [
    {
     "name": "stdout",
     "output_type": "stream",
     "text": [
      "[0.65 1.   0.   0.   0.   0.   0.   0.   0.   0.   0.   0.   0.   0.\n",
      " 0.   0.   0.   0.   0.   0.   0.   0.   0.   0.   0.   0.   0.   0.\n",
      " 0.   0.   0.   0.   0.   0.   0.   0.   0.   0.   0.   0.   0.   0.\n",
      " 0.   0.   0.   0.   0.   0.   0.   0.   0.   0.   0.   0.   0.   0.\n",
      " 0.   0.   0.   0.   0.   0.   0.   0.   0.   0.   0.   0.   0.   0.\n",
      " 0.   0.   0.   0.   0.   0.   0.   0.   0.   0.   0.   0.   0.   0.\n",
      " 0.   0.   0.   0.   0.   0.   0.   0.   0.   0.   0.   0.   0.   0.\n",
      " 0.   0.  ] < 919.731611842354 \n",
      "\n",
      "\n",
      "[-0.25  1.    0.    0.    0.    0.    0.    0.    0.    0.    0.    0.\n",
      "  0.    0.    0.    0.    0.    0.    0.    0.    0.    0.    0.    0.\n",
      "  0.    0.    0.    0.    0.    0.    0.    0.    0.    0.    0.    0.\n",
      "  0.    0.    0.    0.    0.    0.    0.    0.    0.    0.    0.    0.\n",
      "  0.    0.    0.    0.    0.    0.    0.    0.    0.    0.    0.    0.\n",
      "  0.    0.    0.    0.    0.    0.    0.    0.    0.    0.    0.    0.\n",
      "  0.    0.    0.    0.    0.    0.    0.    0.    0.    0.    0.    0.\n",
      "  0.    0.    0.    0.    0.    0.    0.    0.    0.    0.    0.    0.\n",
      "  0.    0.    0.    0.  ] < 199.94165474833784 \n",
      "\n",
      "\n",
      "[0.65 0.   1.   0.   0.   0.   0.   0.   0.   0.   0.   0.   0.   0.\n",
      " 0.   0.   0.   0.   0.   0.   0.   0.   0.   0.   0.   0.   0.   0.\n",
      " 0.   0.   0.   0.   0.   0.   0.   0.   0.   0.   0.   0.   0.   0.\n",
      " 0.   0.   0.   0.   0.   0.   0.   0.   0.   0.   0.   0.   0.   0.\n",
      " 0.   0.   0.   0.   0.   0.   0.   0.   0.   0.   0.   0.   0.   0.\n",
      " 0.   0.   0.   0.   0.   0.   0.   0.   0.   0.   0.   0.   0.   0.\n",
      " 0.   0.   0.   0.   0.   0.   0.   0.   0.   0.   0.   0.   0.   0.\n",
      " 0.   0.  ] < 535.4133473819548 \n",
      "\n",
      "\n"
     ]
    }
   ],
   "source": [
    "for i in range(3):\n",
    "    print(A[i] , direction[i] , rhs[i], \"\\n\\n\")"
   ]
  },
  {
   "cell_type": "code",
   "execution_count": 279,
   "id": "4cedcbdf",
   "metadata": {
    "ExecuteTime": {
     "end_time": "2022-02-21T22:40:39.837195Z",
     "start_time": "2022-02-21T22:40:39.787918Z"
    }
   },
   "outputs": [],
   "source": [
    "#Gurobi run - lpp\n",
    "spMod = gp.Model()\n",
    "spMod_x = spMod.addMVar(len(obj),lb=lb) \n",
    "spMod_con = spMod.addMConstrs(A, spMod_x, direction, rhs)\n",
    "spMod.setMObjective(None,obj,0,sense=gp.GRB.MAXIMIZE)\n",
    "spMod.Params.OutputFlag = 0 # tell gurobi to shut up!!\n",
    "spMod.optimize()"
   ]
  },
  {
   "cell_type": "markdown",
   "id": "f889e26e",
   "metadata": {},
   "source": [
    "<font face='Tahoma' size = 2.5> Decision variables, the first one being quantity q are as follows :"
   ]
  },
  {
   "cell_type": "code",
   "execution_count": 280,
   "id": "5a143f5a",
   "metadata": {
    "ExecuteTime": {
     "end_time": "2022-02-21T22:40:42.526589Z",
     "start_time": "2022-02-21T22:40:42.505889Z"
    }
   },
   "outputs": [
    {
     "data": {
      "text/plain": [
       "[481.6116,\n",
       " 320.3446,\n",
       " 222.3658,\n",
       " 236.7315,\n",
       " 143.0974,\n",
       " 291.9884,\n",
       " -68.0567,\n",
       " 324.8455,\n",
       " 196.6798,\n",
       " 271.5744]"
      ]
     },
     "execution_count": 280,
     "metadata": {},
     "output_type": "execute_result"
    }
   ],
   "source": [
    "#Decision variables\n",
    "[round(x,4) for x in spMod_x.x[0:10]]"
   ]
  },
  {
   "cell_type": "markdown",
   "id": "d2e0fd0f",
   "metadata": {},
   "source": [
    "<font face='Tahoma' size = 2.5> Optimal value from the optimization :"
   ]
  },
  {
   "cell_type": "code",
   "execution_count": 281,
   "id": "c6abb55e",
   "metadata": {
    "ExecuteTime": {
     "end_time": "2022-02-21T22:40:44.436603Z",
     "start_time": "2022-02-21T22:40:44.427871Z"
    }
   },
   "outputs": [
    {
     "data": {
      "text/plain": [
       "243.4894"
      ]
     },
     "execution_count": 281,
     "metadata": {},
     "output_type": "execute_result"
    }
   ],
   "source": [
    "round(spMod.objval,4)"
   ]
  },
  {
   "cell_type": "markdown",
   "id": "9aaf4c53",
   "metadata": {},
   "source": [
    "<font face='Tahoma' size = 2.5>On each day, how many newspapers did we actually sell"
   ]
  },
  {
   "cell_type": "code",
   "execution_count": 282,
   "id": "aec249a4",
   "metadata": {
    "ExecuteTime": {
     "end_time": "2022-02-21T22:40:50.968273Z",
     "start_time": "2022-02-21T22:40:50.955456Z"
    }
   },
   "outputs": [
    {
     "data": {
      "text/plain": [
       "0     481.611607\n",
       "1     465.576824\n",
       "2     478.068715\n",
       "3     396.647755\n",
       "4     481.611607\n",
       "         ...    \n",
       "94    481.611607\n",
       "95    481.611607\n",
       "96    481.611607\n",
       "97    481.611607\n",
       "98    464.344678\n",
       "Name: demand, Length: 99, dtype: float64"
      ]
     },
     "execution_count": 282,
     "metadata": {},
     "output_type": "execute_result"
    }
   ],
   "source": [
    "numsold = np.minimum(spMod_x.x[0],dem_sim.demand) \n",
    "numsold"
   ]
  },
  {
   "cell_type": "markdown",
   "id": "f9105c1f",
   "metadata": {},
   "source": [
    "<font face='Tahoma' size = 2.5> **Approach 2 - Assume error remained same historically**"
   ]
  },
  {
   "cell_type": "markdown",
   "id": "65109250",
   "metadata": {},
   "source": [
    "<font face='Tahoma' size = 2.5> We extract the error component of each historical day and assume it to be constant for that particular day."
   ]
  },
  {
   "cell_type": "code",
   "execution_count": 309,
   "id": "d5004c7b",
   "metadata": {
    "ExecuteTime": {
     "end_time": "2022-02-22T00:10:36.687981Z",
     "start_time": "2022-02-22T00:10:36.673167Z"
    }
   },
   "outputs": [],
   "source": [
    "#Generate data\n",
    "dem_sim = copy.deepcopy(demand_df)\n",
    "dem_sim['price'] = 1\n",
    "dem_sim['demand'] = ols.predict(pd.DataFrame([1]*99 , dem_sim['price'].values,columns=['price']).reset_index())\n",
    "np.random.seed(1)\n",
    "dem_sim['err'] = demand_df.demand - ols.params[1]*demand_df.price - ols.params[0]\n",
    "#np.std(demand_df.demand - ols.params[1]*demand_df.price - ols.params[0])"
   ]
  },
  {
   "cell_type": "code",
   "execution_count": 310,
   "id": "52608c1e",
   "metadata": {
    "ExecuteTime": {
     "end_time": "2022-02-22T00:11:01.005074Z",
     "start_time": "2022-02-22T00:11:00.980043Z"
    }
   },
   "outputs": [],
   "source": [
    "#simulated demand\n",
    "dem_sim['demand'] = dem_sim['demand'] + dem_sim['err']"
   ]
  },
  {
   "cell_type": "markdown",
   "id": "e5e23246",
   "metadata": {},
   "source": [
    "<font face='Tahoma' size = 2.5> Simulated demand looks like -"
   ]
  },
  {
   "cell_type": "code",
   "execution_count": 311,
   "id": "8f6c8073",
   "metadata": {
    "ExecuteTime": {
     "end_time": "2022-02-22T00:11:03.788581Z",
     "start_time": "2022-02-22T00:11:03.678436Z"
    }
   },
   "outputs": [
    {
     "data": {
      "text/plain": [
       "<AxesSubplot:>"
      ]
     },
     "execution_count": 311,
     "metadata": {},
     "output_type": "execute_result"
    },
    {
     "data": {
      "image/png": "[encoded data removed]",
      "text/plain": [
       "<Figure size 432x288 with 1 Axes>"
      ]
     },
     "metadata": {
      "needs_background": "light"
     },
     "output_type": "display_data"
    }
   ],
   "source": [
    "dem_sim['demand'].plot()"
   ]
  },
  {
   "cell_type": "markdown",
   "id": "52260081",
   "metadata": {},
   "source": [
    "<font face='Tahoma' size = 2.5>\n",
    "Setting the cost, cost for rush order (g) and disposal costs (t) and working with p = 1 (assumption) scenario :"
   ]
  },
  {
   "cell_type": "code",
   "execution_count": 312,
   "id": "71dfdea2",
   "metadata": {
    "ExecuteTime": {
     "end_time": "2022-02-22T00:11:06.673060Z",
     "start_time": "2022-02-22T00:11:06.666452Z"
    }
   },
   "outputs": [],
   "source": [
    "cost = 0.5\n",
    "g = 0.75\n",
    "t = 0.15\n",
    "p = dem_sim['price'][0]"
   ]
  },
  {
   "cell_type": "code",
   "execution_count": 313,
   "id": "2c156d4d",
   "metadata": {
    "ExecuteTime": {
     "end_time": "2022-02-22T00:11:07.701826Z",
     "start_time": "2022-02-22T00:11:07.693517Z"
    }
   },
   "outputs": [
    {
     "data": {
      "text/plain": [
       "99"
      ]
     },
     "execution_count": 313,
     "metadata": {},
     "output_type": "execute_result"
    }
   ],
   "source": [
    "nd = demand_df.shape[0] # number of days of demand data\n",
    "nd"
   ]
  },
  {
   "cell_type": "markdown",
   "id": "ad889f8d",
   "metadata": {},
   "source": [
    "<font face='Tahoma' size = 2.5>\n",
    "The new objective function, as per SAA (Sample Average Approximation) would be :\n",
    "    $$max_q\\frac{1}{n} \\sum\\limits_{i=1}^{n}p_iD_i -qc - g(D_i-q)^{+} - t(q-D_i)^{+}$$\n",
    "    \n",
    "where $q$ is quantity of newspapers as a decision variable <br>\n",
    "    $n$ is number of samples available with past demand <br>\n",
    "    $c$ is cost without rush order <br>\n",
    "    $g$ is higher cost to match upto the demand <br>\n",
    "    $t$ is disposal cost to enable disposal/recycle <br>\n",
    "    \n",
    "and the terms  $g(D_i-q)^{+}$ and $t(q-D_i)^{+}$ indicate if the quantity in the braces is positive in value. It'll be interesting to convert this into a linear programming problem.\n",
    "    \n",
    "<br>\n",
    "\n"
   ]
  },
  {
   "cell_type": "markdown",
   "id": "292ffc7f",
   "metadata": {},
   "source": [
    "<font face='Tahoma' size = 2.5>\n",
    "We use expected profit as the objective function. Say we define $h_i$ as profit on $i^{th}$ day. Given our assumption that next day's profit is from the distribution of historical demand, we use all datapoints for SAA to evaluate expected profit."
   ]
  },
  {
   "cell_type": "markdown",
   "id": "1fcb8306",
   "metadata": {},
   "source": [
    "<font face='Tahoma' size = 2.5>\n",
    "We formulate the constraints of the problem as follows :\n",
    "    $$h_i \\leq p_iD_i - qc - g(D_i - q)\\;\\;\\;\\;\\;\\;\\; \\forall (q < D_i) $$\n",
    "    $$h_i \\leq p_iD_i - qc - t(q - D_i)\\;\\;\\;\\;\\;\\;\\; \\forall (q \\geq D_i) $$\n",
    "    \n",
    "to convert this into an LPP and objective function becomes an average of the $h_i$'s"
   ]
  },
  {
   "cell_type": "code",
   "execution_count": 314,
   "id": "a576e362",
   "metadata": {
    "ExecuteTime": {
     "end_time": "2022-02-22T00:11:11.194992Z",
     "start_time": "2022-02-22T00:11:11.185335Z"
    }
   },
   "outputs": [],
   "source": [
    "# decision variables are (q, h1, h2, ..., h25)\n",
    "obj = np.zeros(nd+1)\n",
    "obj[1:] = 1.0/nd\n",
    "\n",
    "#Set respective lower bounds\n",
    "lb = np.zeros(nd+1)\n",
    "lb[1:] = -np.inf # quantity printed needs to be non-negative, but profit on a given day could possibly be negative\n",
    "\n",
    "#RHS and directionality of constraints\n",
    "rhs = np.zeros(2*nd)\n",
    "direction = np.array(['<']*(2*nd))"
   ]
  },
  {
   "cell_type": "markdown",
   "id": "6e35e501",
   "metadata": {},
   "source": [
    "<font face='Tahoma' size = 2.5>Constraints for the problem are :\n",
    "$$h_i \\leq (g - c)q + (p_i-g)D_i $$\n",
    "$$h_i \\leq  -(c+t)q + (p_i+t)D_i$$\n",
    "<br>\n"
   ]
  },
  {
   "cell_type": "code",
   "execution_count": 315,
   "id": "26db99f5",
   "metadata": {
    "ExecuteTime": {
     "end_time": "2022-02-22T00:11:12.371842Z",
     "start_time": "2022-02-22T00:11:12.348839Z"
    }
   },
   "outputs": [],
   "source": [
    "A = np.zeros((2*nd,nd+1))\n",
    "for r in range(nd):\n",
    "    A[2*r,[0,r+1]] = [cost+t,1] \n",
    "    rhs[2*r] = (dem_sim['price'][r] + t ) * dem_sim.demand[r]\n",
    "    A[2*r+1,[0,r+1]] = [cost-g,1]\n",
    "    rhs[2*r+1] = (dem_sim['price'][r] - g ) * dem_sim.demand[r]\n"
   ]
  },
  {
   "cell_type": "markdown",
   "id": "7d779774",
   "metadata": {},
   "source": [
    "<font face='Tahoma' size = 2.5>Constraints for the problem are written as input to Gurobi :"
   ]
  },
  {
   "cell_type": "code",
   "execution_count": 316,
   "id": "a6f0dd27",
   "metadata": {
    "ExecuteTime": {
     "end_time": "2022-02-22T00:11:13.759465Z",
     "start_time": "2022-02-22T00:11:13.742172Z"
    }
   },
   "outputs": [
    {
     "name": "stdout",
     "output_type": "stream",
     "text": [
      "[0.65 1.   0.   0.   0.   0.   0.   0.   0.   0.   0.   0.   0.   0.\n",
      " 0.   0.   0.   0.   0.   0.   0.   0.   0.   0.   0.   0.   0.   0.\n",
      " 0.   0.   0.   0.   0.   0.   0.   0.   0.   0.   0.   0.   0.   0.\n",
      " 0.   0.   0.   0.   0.   0.   0.   0.   0.   0.   0.   0.   0.   0.\n",
      " 0.   0.   0.   0.   0.   0.   0.   0.   0.   0.   0.   0.   0.   0.\n",
      " 0.   0.   0.   0.   0.   0.   0.   0.   0.   0.   0.   0.   0.   0.\n",
      " 0.   0.   0.   0.   0.   0.   0.   0.   0.   0.   0.   0.   0.   0.\n",
      " 0.   0.  ] < 404.09347013934934 \n",
      "\n",
      "\n",
      "[-0.25  1.    0.    0.    0.    0.    0.    0.    0.    0.    0.    0.\n",
      "  0.    0.    0.    0.    0.    0.    0.    0.    0.    0.    0.    0.\n",
      "  0.    0.    0.    0.    0.    0.    0.    0.    0.    0.    0.    0.\n",
      "  0.    0.    0.    0.    0.    0.    0.    0.    0.    0.    0.    0.\n",
      "  0.    0.    0.    0.    0.    0.    0.    0.    0.    0.    0.    0.\n",
      "  0.    0.    0.    0.    0.    0.    0.    0.    0.    0.    0.    0.\n",
      "  0.    0.    0.    0.    0.    0.    0.    0.    0.    0.    0.    0.\n",
      "  0.    0.    0.    0.    0.    0.    0.    0.    0.    0.    0.    0.\n",
      "  0.    0.    0.    0.  ] < 87.84640655203248 \n",
      "\n",
      "\n",
      "[0.65 0.   1.   0.   0.   0.   0.   0.   0.   0.   0.   0.   0.   0.\n",
      " 0.   0.   0.   0.   0.   0.   0.   0.   0.   0.   0.   0.   0.   0.\n",
      " 0.   0.   0.   0.   0.   0.   0.   0.   0.   0.   0.   0.   0.   0.\n",
      " 0.   0.   0.   0.   0.   0.   0.   0.   0.   0.   0.   0.   0.   0.\n",
      " 0.   0.   0.   0.   0.   0.   0.   0.   0.   0.   0.   0.   0.   0.\n",
      " 0.   0.   0.   0.   0.   0.   0.   0.   0.   0.   0.   0.   0.   0.\n",
      " 0.   0.   0.   0.   0.   0.   0.   0.   0.   0.   0.   0.   0.   0.\n",
      " 0.   0.  ] < 666.4482836098217 \n",
      "\n",
      "\n"
     ]
    }
   ],
   "source": [
    "for i in range(3):\n",
    "    print(A[i] , direction[i] , rhs[i], \"\\n\\n\")"
   ]
  },
  {
   "cell_type": "code",
   "execution_count": 317,
   "id": "0f4f9de5",
   "metadata": {
    "ExecuteTime": {
     "end_time": "2022-02-22T00:11:16.772208Z",
     "start_time": "2022-02-22T00:11:16.724665Z"
    }
   },
   "outputs": [],
   "source": [
    "#Gurobi run - lpp\n",
    "spMod = gp.Model()\n",
    "spMod_x = spMod.addMVar(len(obj),lb=lb) \n",
    "spMod_con = spMod.addMConstrs(A, spMod_x, direction, rhs)\n",
    "spMod.setMObjective(None,obj,0,sense=gp.GRB.MAXIMIZE)\n",
    "spMod.Params.OutputFlag = 0 # tell gurobi to shut up!!\n",
    "spMod.optimize()"
   ]
  },
  {
   "cell_type": "markdown",
   "id": "b94afcbb",
   "metadata": {},
   "source": [
    "<font face='Tahoma' size = 2.5> Decision variables, the first one being quantity q are as follows :"
   ]
  },
  {
   "cell_type": "code",
   "execution_count": 318,
   "id": "472a6290",
   "metadata": {
    "ExecuteTime": {
     "end_time": "2022-02-22T00:11:17.315683Z",
     "start_time": "2022-02-22T00:11:17.302835Z"
    }
   },
   "outputs": [
    {
     "data": {
      "text/plain": [
       "[471.8654,\n",
       " 97.381,\n",
       " 262.8464,\n",
       " 236.0213,\n",
       " 209.5653,\n",
       " 286.4036,\n",
       " 214.3923,\n",
       " 187.9062,\n",
       " 238.185,\n",
       " 256.5157]"
      ]
     },
     "execution_count": 318,
     "metadata": {},
     "output_type": "execute_result"
    }
   ],
   "source": [
    "#Decision variables\n",
    "[round(x,4) for x in spMod_x.x[0:10]]"
   ]
  },
  {
   "cell_type": "markdown",
   "id": "4a1e8454",
   "metadata": {},
   "source": [
    "<font face='Tahoma' size = 2.5> Optimal value from the optimization :"
   ]
  },
  {
   "cell_type": "code",
   "execution_count": 319,
   "id": "224c657e",
   "metadata": {
    "ExecuteTime": {
     "end_time": "2022-02-22T00:11:19.843662Z",
     "start_time": "2022-02-22T00:11:19.834210Z"
    }
   },
   "outputs": [
    {
     "data": {
      "text/plain": [
       "231.4837"
      ]
     },
     "execution_count": 319,
     "metadata": {},
     "output_type": "execute_result"
    }
   ],
   "source": [
    "round(spMod.objval,4)"
   ]
  },
  {
   "cell_type": "markdown",
   "id": "4dc61cd1",
   "metadata": {},
   "source": [
    "<font face='Tahoma' size = 2.5>On each day, how many newspapers did we actually sell"
   ]
  },
  {
   "cell_type": "code",
   "execution_count": 320,
   "id": "359126cc",
   "metadata": {
    "ExecuteTime": {
     "end_time": "2022-02-22T00:11:21.487296Z",
     "start_time": "2022-02-22T00:11:21.473820Z"
    }
   },
   "outputs": [
    {
     "data": {
      "text/plain": [
       "0     351.385626\n",
       "1     471.865380\n",
       "2     471.865380\n",
       "3     448.937249\n",
       "4     471.865380\n",
       "         ...    \n",
       "94    471.865380\n",
       "95    471.865380\n",
       "96    441.708501\n",
       "97    471.865380\n",
       "98    471.865380\n",
       "Name: demand, Length: 99, dtype: float64"
      ]
     },
     "execution_count": 320,
     "metadata": {},
     "output_type": "execute_result"
    }
   ],
   "source": [
    "numsold = np.minimum(spMod_x.x[0],dem_sim.demand) \n",
    "numsold"
   ]
  },
  {
   "cell_type": "markdown",
   "id": "287cc4ad",
   "metadata": {},
   "source": [
    "<font face='Tahoma' size = 2.5> **Solving the problem as a QP :**\n",
    "    \n",
    "Now we see price impacts demand directly and solve either the resulting QCP or QP based on the actual data"
   ]
  },
  {
   "cell_type": "code",
   "execution_count": 321,
   "id": "f807c569",
   "metadata": {
    "ExecuteTime": {
     "end_time": "2022-02-22T00:11:36.266746Z",
     "start_time": "2022-02-22T00:11:36.251645Z"
    }
   },
   "outputs": [
    {
     "data": {
      "text/html": [
       "<div>\n",
       "<style scoped>\n",
       "    .dataframe tbody tr th:only-of-type {\n",
       "        vertical-align: middle;\n",
       "    }\n",
       "\n",
       "    .dataframe tbody tr th {\n",
       "        vertical-align: top;\n",
       "    }\n",
       "\n",
       "    .dataframe thead th {\n",
       "        text-align: right;\n",
       "    }\n",
       "</style>\n",
       "<table border=\"1\" class=\"dataframe\">\n",
       "  <thead>\n",
       "    <tr style=\"text-align: right;\">\n",
       "      <th></th>\n",
       "      <th>price</th>\n",
       "      <th>demand</th>\n",
       "    </tr>\n",
       "  </thead>\n",
       "  <tbody>\n",
       "    <tr>\n",
       "      <th>0</th>\n",
       "      <td>1.05</td>\n",
       "      <td>283</td>\n",
       "    </tr>\n",
       "    <tr>\n",
       "      <th>1</th>\n",
       "      <td>0.86</td>\n",
       "      <td>771</td>\n",
       "    </tr>\n",
       "    <tr>\n",
       "      <th>2</th>\n",
       "      <td>1.21</td>\n",
       "      <td>185</td>\n",
       "    </tr>\n",
       "    <tr>\n",
       "      <th>3</th>\n",
       "      <td>0.94</td>\n",
       "      <td>531</td>\n",
       "    </tr>\n",
       "    <tr>\n",
       "      <th>4</th>\n",
       "      <td>0.76</td>\n",
       "      <td>1002</td>\n",
       "    </tr>\n",
       "  </tbody>\n",
       "</table>\n",
       "</div>"
      ],
      "text/plain": [
       "   price  demand\n",
       "0   1.05     283\n",
       "1   0.86     771\n",
       "2   1.21     185\n",
       "3   0.94     531\n",
       "4   0.76    1002"
      ]
     },
     "execution_count": 321,
     "metadata": {},
     "output_type": "execute_result"
    }
   ],
   "source": [
    "demand_df.head()"
   ]
  },
  {
   "cell_type": "markdown",
   "id": "719f0123",
   "metadata": {},
   "source": [
    "<font face='Tahoma' size = 2.5> Let's reformulate $h_i$ to be the negative of cost on each day. This also entails the error part of the regression equation. Then the objective is the average of revenue plus negative cost, where the revenue part comes from $pD_i$ and the negative cost comes from $h_i$ <br><br>\n",
    "Essentially, this way the quadratic part would stay in the objective instead of going down to a constraint when price impacts demand. <br> The 2 constraints for the negative cost dummy variables would be linear. Note, the contraints need to be upper bounds on h, not lower bounds.<br><br>\n"
   ]
  },
  {
   "cell_type": "markdown",
   "id": "c1edca87",
   "metadata": {},
   "source": [
    "<font face='Tahoma' size = 2.5> The objective function with demand considered as a function of price would be of the quadratic form. In the form -\n",
    "    $$max_q\\frac{1}{n} \\sum\\limits_{i=1}^{n}pD_i -qc - g(D_i-q)^{+} - t(q-D_i)^{+}$$\n",
    "Substituting the value of $D_i$ and treating daily variable negative costs as $h_i$ instead of profits. If we treat $h_i$ as decision variables now, we do not need the later part of the objective and it could simply be average revenue plus the negative costs. Substituting we have :\n",
    "    \n",
    "   \n",
    "\n"
   ]
  },
  {
   "cell_type": "markdown",
   "id": "f619e18a",
   "metadata": {},
   "source": [
    "$$max_{p,q,h_i}\\frac{1}{n} \\sum\\limits_{i=1}^{n}p(\\beta_0 + \\beta_1p ) + h_i$$"
   ]
  },
  {
   "cell_type": "markdown",
   "id": "ffaf6368",
   "metadata": {},
   "source": [
    "<font face='Tahoma' size = 2.5> The QP form would be -\n",
    "$$max_{p,q,h_i}(\\beta_1p^2 + \\beta_0p  + \\frac{1}{n} \\sum\\limits_{i=1}^{n}h_i)$$\n",
    "Here $\\epsilon_i$ components in $h_i$ is summed up as 0 in the objective function but may remain valid in the constraints.\n",
    "    \n",
    "    \n",
    "   \n",
    "\n"
   ]
  },
  {
   "cell_type": "markdown",
   "id": "f964773a",
   "metadata": {},
   "source": [
    "<font face='Tahoma' size = 2.5> Based on the substitutions we have\n",
    "    $$h_i = -qc + (-g(\\beta_0 + \\beta_1 p + \\epsilon_i) + gq)^{+} + (-tq + t(\\beta_0 + \\beta_1 p + \\epsilon_i))^{+})$$<br> representing negative costs. Similar to earlier methods we'd be able to formulate the linear constraints in the following manner.<br><br>$$h_i \\leq  - qc -g(\\beta_0 + \\beta_1 p + \\epsilon_i) + gq\\;\\;\\;\\;\\;\\;\\; \\forall (q < D_i) $$\n",
    "    $$h_i \\leq  - qc - tq + t(\\beta_0 + \\beta_1 p + \\epsilon_i)\\;\\;\\;\\;\\;\\;\\; \\forall (q \\geq D_i) $$\n",
    "    \n",
    "    \n",
    "Rearranging the terms we have - \n"
   ]
  },
  {
   "cell_type": "markdown",
   "id": "d7b64de3",
   "metadata": {
    "ExecuteTime": {
     "end_time": "2022-02-22T00:37:57.297893Z",
     "start_time": "2022-02-22T00:37:57.277914Z"
    }
   },
   "source": [
    "<br><br>$$-g\\beta_1p + (-c-g)q  + h_i \\leq   -g(\\beta_0  + \\epsilon_i)\\;\\;\\;\\;\\;\\;\\; \\forall (q < D_i) $$\n",
    "    $$- t\\beta_1p + (-c-t)q  + h_i \\leq   t(\\beta_0 + \\epsilon_i)\\;\\;\\;\\;\\;\\;\\; \\forall (q \\geq D_i) $$"
   ]
  },
  {
   "cell_type": "code",
   "execution_count": 350,
   "id": "9ee10fb2",
   "metadata": {
    "ExecuteTime": {
     "end_time": "2022-02-22T01:04:39.333742Z",
     "start_time": "2022-02-22T01:04:39.319664Z"
    }
   },
   "outputs": [],
   "source": [
    "# decision variables are (p,q, h1, h2, ...)\n",
    "Sigma = np.zeros((nd+2,nd+2))\n",
    "Sigma[0,0] = ols.params[1]\n",
    "C = np.zeros(nd+2)\n",
    "C[0] = ols.params[0]\n",
    "C[2:] = 1/nd\n",
    "\n",
    "#Set respective lower bounds\n",
    "lb = np.zeros(nd+2)\n",
    "lb[2:] = -np.inf # quantity printed needs to be non-negative, but profit on a given day could possibly be negative\n",
    "\n",
    "#RHS and directionality of constraints\n",
    "rhs = np.zeros(2*nd)\n",
    "direction = np.array(['<']*(2*nd))"
   ]
  },
  {
   "cell_type": "code",
   "execution_count": 356,
   "id": "d8574acd",
   "metadata": {
    "ExecuteTime": {
     "end_time": "2022-02-22T01:06:18.122250Z",
     "start_time": "2022-02-22T01:06:18.068324Z"
    }
   },
   "outputs": [],
   "source": [
    "p_vec = [-1*t*ols.params[1]]*99 + [-1*g*ols.params[1]]*99\n",
    "A = np.zeros((2*nd,nd+2))\n",
    "for r in range(nd):\n",
    "    A[:,0] = p_vec\n",
    "    A[2*r,[1,r+2]] = [-cost-t,1] \n",
    "    rhs[2*r] = t*(ols.params[0]+dem_sim.err[r])\n",
    "    A[2*r+1,[1,r+2]] = [-cost-g,1]\n",
    "    rhs[2*r+1] = -1*g*(ols.params[0] + dem_sim.err[r])"
   ]
  },
  {
   "cell_type": "code",
   "execution_count": 357,
   "id": "2b2adbf1",
   "metadata": {
    "ExecuteTime": {
     "end_time": "2022-02-22T01:06:23.409691Z",
     "start_time": "2022-02-22T01:06:23.401633Z"
    }
   },
   "outputs": [
    {
     "data": {
      "text/plain": [
       "(198, 101)"
      ]
     },
     "execution_count": 357,
     "metadata": {},
     "output_type": "execute_result"
    }
   ],
   "source": [
    "A.shape"
   ]
  },
  {
   "cell_type": "code",
   "execution_count": 358,
   "id": "1fd0a4e7",
   "metadata": {
    "ExecuteTime": {
     "end_time": "2022-02-22T01:06:27.200750Z",
     "start_time": "2022-02-22T01:06:27.186726Z"
    }
   },
   "outputs": [
    {
     "name": "stdout",
     "output_type": "stream",
     "text": [
      "[205.15687862  -0.65         1.           0.           0.\n",
      "   0.           0.           0.           0.           0.\n",
      "   0.           0.           0.           0.           0.\n",
      "   0.           0.           0.           0.           0.\n",
      "   0.           0.           0.           0.           0.\n",
      "   0.           0.           0.           0.           0.\n",
      "   0.           0.           0.           0.           0.\n",
      "   0.           0.           0.           0.           0.\n",
      "   0.           0.           0.           0.           0.\n",
      "   0.           0.           0.           0.           0.\n",
      "   0.           0.           0.           0.           0.\n",
      "   0.           0.           0.           0.           0.\n",
      "   0.           0.           0.           0.           0.\n",
      "   0.           0.           0.           0.           0.\n",
      "   0.           0.           0.           0.           0.\n",
      "   0.           0.           0.           0.           0.\n",
      "   0.           0.           0.           0.           0.\n",
      "   0.           0.           0.           0.           0.\n",
      "   0.           0.           0.           0.           0.\n",
      "   0.           0.           0.           0.           0.\n",
      "   0.        ] < 257.8647225556092 \n",
      "\n",
      "\n",
      "[205.15687862  -1.25         1.           0.           0.\n",
      "   0.           0.           0.           0.           0.\n",
      "   0.           0.           0.           0.           0.\n",
      "   0.           0.           0.           0.           0.\n",
      "   0.           0.           0.           0.           0.\n",
      "   0.           0.           0.           0.           0.\n",
      "   0.           0.           0.           0.           0.\n",
      "   0.           0.           0.           0.           0.\n",
      "   0.           0.           0.           0.           0.\n",
      "   0.           0.           0.           0.           0.\n",
      "   0.           0.           0.           0.           0.\n",
      "   0.           0.           0.           0.           0.\n",
      "   0.           0.           0.           0.           0.\n",
      "   0.           0.           0.           0.           0.\n",
      "   0.           0.           0.           0.           0.\n",
      "   0.           0.           0.           0.           0.\n",
      "   0.           0.           0.           0.           0.\n",
      "   0.           0.           0.           0.           0.\n",
      "   0.           0.           0.           0.           0.\n",
      "   0.           0.           0.           0.           0.\n",
      "   0.        ] < -1289.323612778046 \n",
      "\n",
      "\n",
      "[205.15687862  -0.65         0.           1.           0.\n",
      "   0.           0.           0.           0.           0.\n",
      "   0.           0.           0.           0.           0.\n",
      "   0.           0.           0.           0.           0.\n",
      "   0.           0.           0.           0.           0.\n",
      "   0.           0.           0.           0.           0.\n",
      "   0.           0.           0.           0.           0.\n",
      "   0.           0.           0.           0.           0.\n",
      "   0.           0.           0.           0.           0.\n",
      "   0.           0.           0.           0.           0.\n",
      "   0.           0.           0.           0.           0.\n",
      "   0.           0.           0.           0.           0.\n",
      "   0.           0.           0.           0.           0.\n",
      "   0.           0.           0.           0.           0.\n",
      "   0.           0.           0.           0.           0.\n",
      "   0.           0.           0.           0.           0.\n",
      "   0.           0.           0.           0.           0.\n",
      "   0.           0.           0.           0.           0.\n",
      "   0.           0.           0.           0.           0.\n",
      "   0.           0.           0.           0.           0.\n",
      "   0.        ] < 292.08491561697514 \n",
      "\n",
      "\n"
     ]
    }
   ],
   "source": [
    "A = np.array(A)\n",
    "for i in range(3):\n",
    "    print(A[i] , direction[i] , rhs[i], \"\\n\\n\")"
   ]
  },
  {
   "cell_type": "code",
   "execution_count": 367,
   "id": "265e1bc9",
   "metadata": {
    "ExecuteTime": {
     "end_time": "2022-02-22T01:12:16.369634Z",
     "start_time": "2022-02-22T01:12:16.301998Z"
    }
   },
   "outputs": [],
   "source": [
    "#Gurobi run - lpp\n",
    "spMod = gp.Model()\n",
    "spMod_x = spMod.addMVar(len(C),lb=lb) \n",
    "spMod_con = spMod.addMConstrs(A, spMod_x, direction, rhs)\n",
    "spMod.setMObjective(Sigma,C,0,sense=gp.GRB.MAXIMIZE)\n",
    "spMod.Params.OutputFlag = 0 # tell gurobi to shut up!!\n",
    "spMod.optimize()"
   ]
  },
  {
   "cell_type": "code",
   "execution_count": 365,
   "id": "e1b71709",
   "metadata": {
    "ExecuteTime": {
     "end_time": "2022-02-22T01:08:08.273232Z",
     "start_time": "2022-02-22T01:08:08.219272Z"
    }
   },
   "outputs": [
    {
     "ename": "GurobiError",
     "evalue": "Unable to retrieve attribute 'x'",
     "output_type": "error",
     "traceback": [
      "\u001b[0;31m---------------------------------------------------------------------------\u001b[0m",
      "\u001b[0;31mGurobiError\u001b[0m                               Traceback (most recent call last)",
      "\u001b[0;32m/var/folders/mw/ztzb1n6s5jq2qn7dsj84mfkm0000gn/T/ipykernel_78894/2755953917.py\u001b[0m in \u001b[0;36m<module>\u001b[0;34m\u001b[0m\n\u001b[1;32m      1\u001b[0m \u001b[0;31m#Decision variables\u001b[0m\u001b[0;34m\u001b[0m\u001b[0;34m\u001b[0m\u001b[0;34m\u001b[0m\u001b[0m\n\u001b[0;32m----> 2\u001b[0;31m \u001b[0mspMod_x\u001b[0m\u001b[0;34m.\u001b[0m\u001b[0mx\u001b[0m\u001b[0;34m\u001b[0m\u001b[0;34m\u001b[0m\u001b[0m\n\u001b[0m",
      "\u001b[0;32msrc/gurobipy/mvar.pxi\u001b[0m in \u001b[0;36mgurobipy.MVar.__getattr__\u001b[0;34m()\u001b[0m\n",
      "\u001b[0;32msrc/gurobipy/mvar.pxi\u001b[0m in \u001b[0;36mgurobipy.MVar.getAttr\u001b[0;34m()\u001b[0m\n",
      "\u001b[0;32msrc/gurobipy/attrutil.pxi\u001b[0m in \u001b[0;36mgurobipy.__gettypedattrlist\u001b[0;34m()\u001b[0m\n",
      "\u001b[0;31mGurobiError\u001b[0m: Unable to retrieve attribute 'x'"
     ]
    }
   ],
   "source": [
    "#Decision variables\n",
    "spMod_x.x"
   ]
  },
  {
   "cell_type": "markdown",
   "id": "c6ab376f",
   "metadata": {},
   "source": [
    "<font face='Tahoma' size = 2.5> Optimal value from the optimization :"
   ]
  },
  {
   "cell_type": "code",
   "execution_count": 366,
   "id": "4b2ed74c",
   "metadata": {
    "ExecuteTime": {
     "end_time": "2022-02-22T01:12:05.357789Z",
     "start_time": "2022-02-22T01:12:05.296872Z"
    }
   },
   "outputs": [
    {
     "ename": "AttributeError",
     "evalue": "Unable to retrieve attribute 'objval'",
     "output_type": "error",
     "traceback": [
      "\u001b[0;31m---------------------------------------------------------------------------\u001b[0m",
      "\u001b[0;31mAttributeError\u001b[0m                            Traceback (most recent call last)",
      "\u001b[0;32m/var/folders/mw/ztzb1n6s5jq2qn7dsj84mfkm0000gn/T/ipykernel_78894/3229930494.py\u001b[0m in \u001b[0;36m<module>\u001b[0;34m\u001b[0m\n\u001b[0;32m----> 1\u001b[0;31m \u001b[0mround\u001b[0m\u001b[0;34m(\u001b[0m\u001b[0mspMod\u001b[0m\u001b[0;34m.\u001b[0m\u001b[0mobjval\u001b[0m\u001b[0;34m,\u001b[0m\u001b[0;36m4\u001b[0m\u001b[0;34m)\u001b[0m\u001b[0;34m\u001b[0m\u001b[0;34m\u001b[0m\u001b[0m\n\u001b[0m",
      "\u001b[0;32msrc/gurobipy/model.pxi\u001b[0m in \u001b[0;36mgurobipy.Model.__getattr__\u001b[0;34m()\u001b[0m\n",
      "\u001b[0;32msrc/gurobipy/model.pxi\u001b[0m in \u001b[0;36mgurobipy.Model.getAttr\u001b[0;34m()\u001b[0m\n",
      "\u001b[0;32msrc/gurobipy/attrutil.pxi\u001b[0m in \u001b[0;36mgurobipy.__getattr\u001b[0;34m()\u001b[0m\n",
      "\u001b[0;31mAttributeError\u001b[0m: Unable to retrieve attribute 'objval'"
     ]
    }
   ],
   "source": [
    "round(spMod.objval,4)"
   ]
  },
  {
   "cell_type": "code",
   "execution_count": 320,
   "id": "a8dd3c51",
   "metadata": {
    "ExecuteTime": {
     "end_time": "2022-02-22T00:11:21.487296Z",
     "start_time": "2022-02-22T00:11:21.473820Z"
    }
   },
   "outputs": [
    {
     "data": {
      "text/plain": [
       "0     351.385626\n",
       "1     471.865380\n",
       "2     471.865380\n",
       "3     448.937249\n",
       "4     471.865380\n",
       "         ...    \n",
       "94    471.865380\n",
       "95    471.865380\n",
       "96    441.708501\n",
       "97    471.865380\n",
       "98    471.865380\n",
       "Name: demand, Length: 99, dtype: float64"
      ]
     },
     "execution_count": 320,
     "metadata": {},
     "output_type": "execute_result"
    }
   ],
   "source": [
    "numsold = np.minimum(spMod_x.x[0],dem_sim.demand) \n",
    "numsold"
   ]
  }
 ],
 "metadata": {
  "hide_input": false,
  "kernelspec": {
   "display_name": "Python 3 (ipykernel)",
   "language": "python",
   "name": "python3"
  },
  "language_info": {
   "codemirror_mode": {
    "name": "ipython",
    "version": 3
   },
   "file_extension": ".py",
   "mimetype": "text/x-python",
   "name": "python",
   "nbconvert_exporter": "python",
   "pygments_lexer": "ipython3",
   "version": "3.8.12"
  },
  "toc": {
   "base_numbering": 1,
   "nav_menu": {},
   "number_sections": true,
   "sideBar": true,
   "skip_h1_title": false,
   "title_cell": "Table of Contents",
   "title_sidebar": "Contents",
   "toc_cell": false,
   "toc_position": {},
   "toc_section_display": true,
   "toc_window_display": false
  },
  "varInspector": {
   "cols": {
    "lenName": 16,
    "lenType": 16,
    "lenVar": 40
   },
   "kernels_config": {
    "python": {
     "delete_cmd_postfix": "",
     "delete_cmd_prefix": "del ",
     "library": "var_list.py",
     "varRefreshCmd": "print(var_dic_list())"
    },
    "r": {
     "delete_cmd_postfix": ") ",
     "delete_cmd_prefix": "rm(",
     "library": "var_list.r",
     "varRefreshCmd": "cat(var_dic_list()) "
    }
   },
   "types_to_exclude": [
    "module",
    "function",
    "builtin_function_or_method",
    "instance",
    "_Feature"
   ],
   "window_display": false
  }
 },
 "nbformat": 4,
 "nbformat_minor": 5
}
